{
 "cells": [
  {
   "cell_type": "markdown",
   "id": "7f57fe90",
   "metadata": {},
   "source": [
    "Q1: K-Fold Cross Validation for Multiple Linear Regression (Least Square Error Fit)Download the dataset regarding USA House Price Prediction from the following link:https://drive.google.com/file/d/1O_NwpJT-8xGfU_-3llUl2sgPu0xllOrX/view?usp=sharingLoad the dataset and Implement 5- fold cross validation for multiple linear regression(using least square error fit).Steps:<br>a) Divide the dataset into input features (all columns except price) and output variable(price)<br>b) Scale the values of input features.<br>c) Divide input and output features into five folds.<br>d) Run five iterations, in each iteration consider one-fold as test set and remainingfour sets as training set. Find the beta (𝛽) matrix, predicted values, and R2_scorefor each iteration using least square error fit.<br>e) Use the best value of (𝛽) matrix (for which R2_score is maximum), to train theregressor for 70% of data and test the performance for remaining 30% data."
   ]
  },
  {
   "cell_type": "code",
   "execution_count": 17,
   "id": "41f6a81e",
   "metadata": {},
   "outputs": [],
   "source": [
    "import numpy as np\n",
    "import pandas as pd\n",
    "from sklearn.preprocessing import StandardScaler\n",
    "from sklearn.model_selection import KFold, train_test_split"
   ]
  },
  {
   "cell_type": "markdown",
   "id": "12887756",
   "metadata": {},
   "source": [
    "a) Divide the dataset into input features (all columns except price) and output variable(price)"
   ]
  },
  {
   "cell_type": "code",
   "execution_count": 11,
   "id": "092c9216",
   "metadata": {},
   "outputs": [],
   "source": [
    "data = pd.read_csv(\"USA_Housing.csv\")\n",
    "\n",
    "X = data.drop(columns=['Price'])\n",
    "y = data['Price']"
   ]
  },
  {
   "cell_type": "markdown",
   "id": "39475428",
   "metadata": {},
   "source": [
    "b) Scale the values of input features."
   ]
  },
  {
   "cell_type": "code",
   "execution_count": 12,
   "id": "ba903472",
   "metadata": {},
   "outputs": [
    {
     "name": "stdout",
     "output_type": "stream",
     "text": [
      "[[ 1.02865969 -0.29692705  0.02127433  0.08806222 -1.31759867]\n",
      " [ 1.00080775  0.02590164 -0.25550611 -0.72230146  0.40399945]\n",
      " [-0.68462915 -0.11230283  1.5162435   0.93084045  0.07240989]\n",
      " ...\n",
      " [-0.48723454  1.28447022 -2.17026949 -1.50025059 -0.29193658]\n",
      " [-0.05459152 -0.44669439  0.14154061  1.18205319  0.65111608]\n",
      " [-0.28831272  0.01521477 -0.19434166  0.07185495  1.04162464]]\n"
     ]
    }
   ],
   "source": [
    "scaler = StandardScaler()\n",
    "X_scaled = scaler.fit_transform(X)\n",
    "print(X_scaled)"
   ]
  },
  {
   "cell_type": "markdown",
   "id": "533a01e4",
   "metadata": {},
   "source": [
    "c) Divide input and output features into five folds."
   ]
  },
  {
   "cell_type": "code",
   "execution_count": null,
   "id": "f79dd095",
   "metadata": {},
   "outputs": [],
   "source": [
    "k_folds = KFold(n_splits=5,shuffle=True,random_state=42)\n",
    "\n",
    "beta,r2scores,y_preds = [],[],[]"
   ]
  },
  {
   "cell_type": "code",
   "execution_count": null,
   "id": "663a0880",
   "metadata": {},
   "outputs": [],
   "source": [
    "for train_idx, test_idx in k_folds.split(X_scaled):\n",
    "    X_train, X_test = X_scaled[train_idx], X_scaled[test_idx]\n",
    "    \n",
    "    y_train, y_test = y[train_idx], y[test_idx]\n",
    "\n",
    "    #adding bias term\n",
    "    X_train_with_one = np.hstack([np.ones((X_train.shape[0],1)),X_train])\n",
    "    X_test_with_one = np.hstack([np.ones((X_test.shape[0],1)),X_test])\n",
    "\n",
    "    beta = np.linalg.pinv(X_train_with_one.T @ X_train_with_one)\n"
   ]
  }
 ],
 "metadata": {
  "kernelspec": {
   "display_name": "Python 3",
   "language": "python",
   "name": "python3"
  },
  "language_info": {
   "codemirror_mode": {
    "name": "ipython",
    "version": 3
   },
   "file_extension": ".py",
   "mimetype": "text/x-python",
   "name": "python",
   "nbconvert_exporter": "python",
   "pygments_lexer": "ipython3",
   "version": "3.13.1"
  }
 },
 "nbformat": 4,
 "nbformat_minor": 5
}
