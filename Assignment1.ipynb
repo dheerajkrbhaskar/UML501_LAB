{
 "cells": [
  {
   "cell_type": "markdown",
   "id": "85e4c96b-b723-4233-b7e5-c0055fe188f8",
   "metadata": {},
   "source": [
    "# Assignment 1\n",
    "Based on numpy\n"
   ]
  },
  {
   "cell_type": "code",
   "execution_count": 6,
   "id": "cf4e18e6-ce57-4ff4-828e-1716bdaa8c63",
   "metadata": {},
   "outputs": [],
   "source": [
    "import numpy as np"
   ]
  },
  {
   "cell_type": "markdown",
   "id": "074ac97b-ab66-4c4e-96c4-07fbf6d2d523",
   "metadata": {},
   "source": [
    "# Q1: Questions on Basic NumPy Array"
   ]
  },
  {
   "cell_type": "markdown",
   "id": "0506725a-a047-43c0-a32f-7528ec258b2f",
   "metadata": {
    "jp-MarkdownHeadingCollapsed": true
   },
   "source": [
    "## (a) Reverse the NumPy array: arr = np.array([1, 2, 3, 6, 4, 5])"
   ]
  },
  {
   "cell_type": "code",
   "execution_count": 7,
   "id": "42ced274-7238-4bf4-a545-d3fcc48aa57a",
   "metadata": {},
   "outputs": [
    {
     "data": {
      "text/plain": [
       "array([5, 4, 6, 3, 2, 1])"
      ]
     },
     "execution_count": 7,
     "metadata": {},
     "output_type": "execute_result"
    }
   ],
   "source": [
    "arr = np.array([1, 2, 3, 6, 4, 5])\n",
    "arr\n",
    "arr[::-1]"
   ]
  },
  {
   "cell_type": "markdown",
   "id": "76d90939-30ce-4a20-803b-4657e878d303",
   "metadata": {},
   "source": [
    "## (b) Flatten the NumPy arr: array1 = np.array([[1, 2, 3], [2, 4, 5], [1, 2, 3]]) using any twoNumPy in-built methods"
   ]
  },
  {
   "cell_type": "code",
   "execution_count": 8,
   "id": "d614fab1-3f01-40c6-98ec-4ffef835fa9c",
   "metadata": {},
   "outputs": [
    {
     "name": "stdout",
     "output_type": "stream",
     "text": [
      "[[1 2 3]\n",
      " [2 4 5]\n",
      " [1 2 3]]\n",
      "\n",
      "C-Style/Row Major:  [1 2 3 2 4 5 1 2 3]\n",
      "Fortran-Style/Column Major:  [1 2 1 2 4 2 3 5 3]\n"
     ]
    }
   ],
   "source": [
    "array1 = np.array([[1, 2, 3], [2, 4, 5], [1, 2, 3]])\n",
    "\n",
    "print(array1)\n",
    "f1 = array1.flatten(order='C')\n",
    "f2 = array1.flatten(order='F')\n",
    "print(\"\\nC-Style/Row Major: \",f1)\n",
    "print(\"Fortran-Style/Column Major: \", f2)"
   ]
  },
  {
   "cell_type": "markdown",
   "id": "31a94599-d36b-43e0-970c-2b4effc8db60",
   "metadata": {
    "jp-MarkdownHeadingCollapsed": true
   },
   "source": [
    "## (c) Compare the following numpy arrays:arr1 = np.array([[1, 2], [3, 4]])arr2 = np.array([[1, 2], [3, 4]])"
   ]
  },
  {
   "cell_type": "code",
   "execution_count": 9,
   "id": "af31cb00-1db8-4093-90ec-c604a69e35d8",
   "metadata": {},
   "outputs": [
    {
     "name": "stdout",
     "output_type": "stream",
     "text": [
      "True\n"
     ]
    }
   ],
   "source": [
    "arr1 = np.array([[1, 2], [3, 4]])\n",
    "arr2 = np.array([[1, 2], [3, 4]])\n",
    "\n",
    "print(np.array_equal(arr1, arr2))"
   ]
  },
  {
   "cell_type": "markdown",
   "id": "bac8b932-e813-4cb0-b45a-373acd5e6134",
   "metadata": {
    "jp-MarkdownHeadingCollapsed": true
   },
   "source": [
    "## (d) Find the most frequent value and their indice(s) in the following arrays:\n",
    "i. x = np.array([1,2,3,4,5,1,2,1,1,1])\n",
    "ii. y = np.array([1, 1, 1, 2, 3, 4, 2, 4, 3, 3, ])"
   ]
  },
  {
   "cell_type": "markdown",
   "id": "5b4e96ca-5246-4acc-8389-14bd5a681c53",
   "metadata": {},
   "source": [
    "#### 3 Ways to find most frequenct element \n",
    "1. np.bincount(arrName).argmax() <i> only supports +ve int, fastest </i>\n",
    "2. uniques, counts = np.unique(arrName, return_counts=True)\n",
    "3. from collections import Counter <br>\n",
    "   counter = Counter(arrName) <br>\n",
    "   counter.most_common(1)[0][0]"
   ]
  },
  {
   "cell_type": "code",
   "execution_count": 20,
   "id": "f33dfe54-e8da-4e56-b29f-18dc6c0d0ab4",
   "metadata": {},
   "outputs": [
    {
     "name": "stdout",
     "output_type": "stream",
     "text": [
      "1 appears at, (array([0, 5, 7, 8, 9]),)\n",
      "1 appears at, (array([0, 1, 2]),)\n"
     ]
    }
   ],
   "source": [
    "from collections import Counter\n",
    "x = np.array([1,2,3,4,5,1,2,1,1,1])\n",
    "y = np.array([1, 1, 1, 2, 3, 4, 2, 4, 3, 3, ])\n",
    "\n",
    "ctr1 = Counter(x)\n",
    "ctr2 = Counter(y)\n",
    "\n",
    "mostFreqInX = ctr1.most_common(1)[0][0]\n",
    "mostFreqInXIndices = np.where(x==mostFreqInX)\n",
    "print(mostFreqInX,\"appears at,\", mostFreqInXIndices)\n",
    "\n",
    "mostFreqInY = np.bincount(y).argmax()\n",
    "mostFreqInYIndices = np.where(y==mostFreqInY)\n",
    "print(mostFreqInY,\"appears at,\", mostFreqInYIndices)"
   ]
  },
  {
   "cell_type": "code",
   "execution_count": 11,
   "id": "4e3cddb1-f6c9-4e0f-9ab4-944d38e4a0ab",
   "metadata": {},
   "outputs": [],
   "source": [
    "gfg = np.matrix('[4, 1, 9; 12, 3, 1; 4, 5, 6]')\n"
   ]
  },
  {
   "cell_type": "markdown",
   "id": "b2f8e592-1e52-46b8-a82c-b9ba1969602f",
   "metadata": {
    "jp-MarkdownHeadingCollapsed": true
   },
   "source": [
    "## (e) For the array gfg = np.matrix('[4, 1, 9; 12, 3, 1; 4, 5, 6]'), \n",
    "find <br> \n",
    "i. Sum of all elements<br>ii. Sum of all elements row-wise<br>iii. Sum of all elements column-wise"
   ]
  },
  {
   "cell_type": "code",
   "execution_count": 25,
   "id": "022cb477-f946-4fc7-a2ba-d4619d35aa0b",
   "metadata": {},
   "outputs": [
    {
     "name": "stdout",
     "output_type": "stream",
     "text": [
      "Sum of all elems 45\n",
      "Sum of all elems row-wise\n",
      " [[14]\n",
      " [16]\n",
      " [15]]\n",
      "Sum of all elems col-wise\n",
      " [[20  9 16]]\n"
     ]
    }
   ],
   "source": [
    "gfg = np.matrix('[4, 1, 9; 12, 3, 1; 4, 5, 6]')\n",
    "\n",
    "sumofElem   = np.sum(gfg)\n",
    "sumRowwise = np.sum(gfg, axis=1) # 1 for row, 0 for col\n",
    "sumColwise = np.sum(gfg, axis=0)\n",
    "print(\"Sum of all elems\",sumofElem)\n",
    "print(\"Sum of all elems row-wise\\n\",sumRowwise)\n",
    "print(\"Sum of all elems col-wise\\n\",sumColwise)\n"
   ]
  },
  {
   "cell_type": "markdown",
   "id": "43f2efc7-6505-4757-90b0-9d5fbcca2568",
   "metadata": {
    "jp-MarkdownHeadingCollapsed": true
   },
   "source": [
    "## (f) For the matrix: n_array = np.array([[55, 25, 15],[30, 44, 2],[11, 45, 77]]), \n",
    "find<br>i. Sum of diagonal elements<br>ii. Eigen values of matrix<br>iii. Eigen vectors of matrix<br>iv. Inverse of matrix<br>v. Determinant of matrix"
   ]
  },
  {
   "cell_type": "markdown",
   "id": "5c9c5d13-8ba9-4daa-b7d8-673df9f0c277",
   "metadata": {},
   "source": [
    "np.linalg <i> provides linear algebra functions</i><br>\n",
    ".inv(), .det(), .eig(), .solve(), .matrix_rank(), .svd(), .norm()"
   ]
  },
  {
   "cell_type": "code",
   "execution_count": 30,
   "id": "a43511cf-ff60-4a42-9a0b-44ce52387515",
   "metadata": {},
   "outputs": [
    {
     "name": "stdout",
     "output_type": "stream",
     "text": [
      "Sum of diagonals,  176\n",
      "Eigen Values [98.16835147 28.097044   49.73460452]\n",
      "\n",
      "Eigen Vector [[ 0.4574917   0.34637121 -0.15017693]\n",
      " [ 0.28447814 -0.72784061 -0.4852124 ]\n",
      " [ 0.84248058  0.59184038  0.8614034 ]]\n"
     ]
    }
   ],
   "source": [
    "n_array = np.array([[55, 25, 15],[30, 44, 2],[11, 45, 77]])\n",
    "\n",
    "diagonalElem = np.diagonal(n_array)\n",
    "print(\"Sum of diagonals, \", np.sum(diagonalElem))\n",
    "\n",
    "eigenvalues, eigenvector = np.linalg.eig(n_array)\n",
    "print(\"Eigen Values\",eigenvalues)\n",
    "\n",
    "print(\"\\nEigen Vector\", eigenvector)\n"
   ]
  },
  {
   "cell_type": "markdown",
   "id": "53838b6c-cd7e-4be6-ada7-4c1bfac8bed7",
   "metadata": {
    "jp-MarkdownHeadingCollapsed": true
   },
   "source": [
    "## (g) Multiply the following matrices and also find covariance between matrices using NumPy:\n",
    "i. p = [[1, 2], [2, 3]] q = [[4, 5], [6, 7]] <br>\n",
    "ii. p = [[1, 2], [2, 3], [4, 5]] q = [[4, 5, 1], [6, 7, 2]]"
   ]
  },
  {
   "cell_type": "code",
   "execution_count": 59,
   "id": "6f11377f-3d4e-40d2-905b-cd45e0000581",
   "metadata": {},
   "outputs": [
    {
     "name": "stdout",
     "output_type": "stream",
     "text": [
      "[[16 19]\n",
      " [26 31]]\n"
     ]
    }
   ],
   "source": [
    "p = [[1, 2], [2, 3]]\n",
    "q = [[4, 5], [6, 7]]\n",
    "p = np.array(p)\n",
    "q = np.array(q)\n",
    "print(np.matmul(p,q))\n",
    "\n",
    "covMat = np.cov(p,q)"
   ]
  },
  {
   "cell_type": "code",
   "execution_count": 60,
   "id": "be8bfcb2-5771-4e9a-bbd2-3e2d964a964a",
   "metadata": {},
   "outputs": [
    {
     "name": "stdout",
     "output_type": "stream",
     "text": [
      "[[16 19  5]\n",
      " [26 31  8]\n",
      " [46 55 14]]\n",
      "\n",
      " Covariance of matrices\n",
      "[[0.5 0.5 0.5 1.  1.  0.5]\n",
      " [0.5 0.5 0.5 1.  1.  0.5]\n",
      " [0.5 0.5 0.5 1.  1.  0.5]\n",
      " [1.  1.  1.  2.  2.  1. ]\n",
      " [1.  1.  1.  2.  2.  1. ]\n",
      " [0.5 0.5 0.5 1.  1.  0.5]]\n"
     ]
    }
   ],
   "source": [
    "p = [[1, 2], [2, 3], [4, 5]] \n",
    "q = [[4, 5, 1], [6, 7, 2]]\n",
    "p = np.array(p)\n",
    "q  = np.array(q)\n",
    "\n",
    "print(np.matmul(p,q))\n",
    "\n",
    "\n",
    "q_trans = q.T\n",
    "combined = np.vstack((p, q_trans))\n",
    "covMat = np.cov(combined, rowvar = True)\n",
    "print(\"\\n Covariance of matrices\")\n",
    "print(covMat)"
   ]
  },
  {
   "cell_type": "markdown",
   "id": "66932704-a4a0-48af-a603-2fdf7dd6e7b5",
   "metadata": {},
   "source": [
    "## (h) For the matrices:  find inner, outer and cartesian product?\n",
    "x = np.array([[2, 3, 4], [3, 2, 9]]); \n",
    "y = np.array([[1, 5, 0], [5, 10, 3]]),"
   ]
  },
  {
   "cell_type": "code",
   "execution_count": 63,
   "id": "0a2f3f39-f56a-46ec-9c17-b9d0d343d38e",
   "metadata": {},
   "outputs": [
    {
     "name": "stdout",
     "output_type": "stream",
     "text": [
      "Cartesian Product:\n",
      " [[[ 2  3  4]\n",
      "  [ 1  5  0]]\n",
      "\n",
      " [[ 2  3  4]\n",
      "  [ 5 10  3]]\n",
      "\n",
      " [[ 3  2  9]\n",
      "  [ 1  5  0]]\n",
      "\n",
      " [[ 3  2  9]\n",
      "  [ 5 10  3]]]\n"
     ]
    }
   ],
   "source": [
    "x = np.array([[2, 3, 4], [3, 2, 9]])\n",
    "y = np.array([[1, 5, 0], [5, 10, 3]])\n",
    "\n",
    "inner = np.inner(x,y)\n",
    "outer = np.outer(x,y)\n",
    "\n",
    "#for cartesian product\n",
    "from itertools import product\n",
    "cartesian = np.array(list(product(x,y)))\n",
    "print(\"Cartesian Product:\\n\", cartesian)"
   ]
  },
  {
   "cell_type": "markdown",
   "id": "cc3c7dd4-d100-4429-9684-1a4cd9c837e6",
   "metadata": {},
   "source": [
    "# Q2: Based on NumPy Mathematics and Statistics"
   ]
  },
  {
   "cell_type": "markdown",
   "id": "e443f610-8896-4ab8-9c78-7e88143fea78",
   "metadata": {},
   "source": [
    "## (a) \n",
    "For the array: array = np.array([[1, -2, 3],[-4, 5, -6]]) <br>\n",
    "i. Find element-wise absolute value<br>\n",
    "ii. Find the 25th, 50th, and 75th percentile of flattened array, for each column, for eachrow.<br>\n",
    "iii. Mean, Median and Standard Deviation of flattened array, of each column, andeach row"
   ]
  },
  {
   "cell_type": "code",
   "execution_count": 104,
   "id": "b0d0caf6-0e4c-493c-92df-c0633a58f221",
   "metadata": {},
   "outputs": [
    {
     "name": "stdout",
     "output_type": "stream",
     "text": [
      "Element-wise absolute values:\n",
      "  [[1 2 3]\n",
      " [4 5 6]]\n",
      "For flattened Array: \n",
      "Percentiles  [-3.5 -0.5  2.5]\n",
      "Mean:  -0.5\n",
      "Median:  -0.5\n",
      "Std:  3.862\n",
      "\n",
      "\n",
      "For Each Row of Array: \n",
      "Percentiles \n",
      " [[-0.5 -5. ]\n",
      " [ 1.  -4. ]\n",
      " [ 2.   0.5]]\n",
      "Mean:  [ 0.66666667 -1.66666667]\n",
      "Median:  [ 1. -4.]\n",
      "Std:  [2.055 4.784]\n",
      "\n",
      "\n",
      "For Each Col of Array: \n",
      "Percentiles\n",
      "  [[-2.75 -0.25 -3.75]\n",
      " [-1.5   1.5  -1.5 ]\n",
      " [-0.25  3.25  0.75]]\n",
      "Mean:  [-1.5  1.5 -1.5]\n",
      "Median:  [-1.5  1.5 -1.5]\n",
      "Std:  [2.5 3.5 4.5]\n"
     ]
    }
   ],
   "source": [
    "array = np.array([[1, -2, 3],[-4, 5, -6]])\n",
    "\n",
    "print(\"Element-wise absolute values:\\n \", np.abs(array))\n",
    "\n",
    "flatArr = array.flatten()\n",
    "\n",
    "flatttenPercentile = np.percentile(flatArr,[25,50,75])\n",
    "rowPercentile = np.percentile(array,[25,50,75],axis=1)\n",
    "colPercentile = np.percentile(array,[25,50,75],axis=0)\n",
    "\n",
    "\n",
    "print(\"For flattened Array: \")\n",
    "print(\"Percentiles \", flatttenPercentile)\n",
    "print(\"Mean: \",np.mean(flatArr))\n",
    "print(\"Median: \",np.median(flatArr))\n",
    "print(\"Std: \",np.std(flatArr).round(3))\n",
    "\n",
    "print(\"\\n\\nFor Each Row of Array: \")\n",
    "print(\"Percentiles \\n\", rowPercentile)\n",
    "print(\"Mean: \",np.mean(array,axis=1))\n",
    "print(\"Median: \",np.median(array,axis=1))\n",
    "print(\"Std: \",np.std(array,axis=1).round(3))\n",
    "\n",
    "print(\"\\n\\nFor Each Col of Array: \")\n",
    "print(\"Percentiles\\n \", colPercentile)\n",
    "print(\"Mean: \",np.mean(array,axis=0))\n",
    "print(\"Median: \",np.median(array,axis=0))\n",
    "print(\"Std: \",np.std(array,axis=0).round(3))"
   ]
  },
  {
   "cell_type": "markdown",
   "id": "6b68e093-7a48-411e-aee5-3df69cd4c650",
   "metadata": {},
   "source": [
    "## (b) Find floor, ceilingand truncated value, rounded values\n",
    "For the array: a = np.array([-1.8, -1.6, -0.5, 0.5,1.6, 1.8, 3.0])."
   ]
  },
  {
   "cell_type": "code",
   "execution_count": 111,
   "id": "e666e78a-b485-4435-a289-3214487c8e27",
   "metadata": {},
   "outputs": [
    {
     "name": "stdout",
     "output_type": "stream",
     "text": [
      "Floor vals:  [-2. -2. -1.  0.  1.  1.  3.]\n",
      "Ceil vals:  [-1. -1. -0.  1.  2.  2.  3.]\n",
      "Truncated vals:  [-1. -1. -0.  0.  1.  1.  3.]\n",
      "Rounded Vals:  [-2. -2. -0.  0.  2.  2.  3.]\n"
     ]
    }
   ],
   "source": [
    "a = np.array([-1.8, -1.6, -0.5, 0.5,1.6, 1.8, 3.0])\n",
    "print(\"Floor vals: \",np.floor(a))\n",
    "print(\"Ceil vals: \",np.ceil(a))\n",
    "print(\"Truncated vals: \",np.trunc(a))\n",
    "print(\"Rounded Vals: \", np.round(a,0))"
   ]
  },
  {
   "cell_type": "markdown",
   "id": "6387f4e7-c3eb-4c73-a81a-1913d78268e8",
   "metadata": {},
   "source": [
    "# Q3: Based on Searching and Sorting"
   ]
  },
  {
   "cell_type": "markdown",
   "id": "db53825a-9a70-40f1-98f5-71366df27a6c",
   "metadata": {},
   "source": [
    "## (a) For the array: array = np.array([10, 52, 62, 16, 16, 54, 453]), \n",
    "find<br>i. Sorted array<br>ii. Indices of sorted array<br>iii. 4 smallest elementsiv. 5 largest elements"
   ]
  },
  {
   "cell_type": "code",
   "execution_count": 118,
   "id": "0870e7f8-8ea3-4cae-8026-7df2e60982a2",
   "metadata": {},
   "outputs": [
    {
     "name": "stdout",
     "output_type": "stream",
     "text": [
      "[ 10  16  16  52  54  62 453]\n",
      "[0 3 4 1 5 2 6]\n",
      "[10 16 16 52]\n",
      "[453  62  54  52  16]\n"
     ]
    }
   ],
   "source": [
    "array = np.array([10, 52, 62, 16, 16, 54, 453])\n",
    "\n",
    "print(np.sort(array))\n",
    "print(np.argsort(array))\n",
    "print(np.sort(array)[:4])\n",
    "print(np.sort(array)[-5:][::-1])"
   ]
  },
  {
   "cell_type": "markdown",
   "id": "3393fb85-d6a8-4d2c-a83a-975a1eb39615",
   "metadata": {},
   "source": [
    "## (b) For the array: array = np.array([1.0, 1.2, 2.2, 2.0, 3.0, 2.0]), \n",
    "find<br>i. Integer elements only<br>ii. Float elements only"
   ]
  },
  {
   "cell_type": "code",
   "execution_count": 119,
   "id": "6dca9aae-f58f-4d9d-84db-a22328530856",
   "metadata": {},
   "outputs": [
    {
     "name": "stdout",
     "output_type": "stream",
     "text": [
      "Integer elements:  [1. 2. 3. 2.]\n",
      "Float elements:  [1.2 2.2]\n"
     ]
    }
   ],
   "source": [
    "array = np.array([1.0, 1.2, 2.2, 2.0, 3.0, 2.0])\n",
    "print(\"Integer elements: \",array[array==array.astype(int)])\n",
    "print(\"Float elements: \",array[array!=array.astype(int)])"
   ]
  },
  {
   "cell_type": "markdown",
   "id": "fa6a4fa0-32c9-48f2-aaad-df04a61e75fe",
   "metadata": {},
   "source": [
    "# Q4 :"
   ]
  },
  {
   "cell_type": "markdown",
   "id": "1b32b382-eb4a-4d2f-8bee-e389ac0ea590",
   "metadata": {},
   "source": [
    "## (a) Write a function named img_to_array(path) that reads an image from a specified path and<br>save it as text file on local machine?<br> (Note: use separate cases for RGB and Grey Scaleimages)"
   ]
  },
  {
   "cell_type": "code",
   "execution_count": 1,
   "id": "52925990-0236-4b4b-8048-f7419401c197",
   "metadata": {},
   "outputs": [
    {
     "name": "stdout",
     "output_type": "stream",
     "text": [
      "Error: Image not found or path is incorrect.\n"
     ]
    }
   ],
   "source": [
    "import cv2 as cv\n",
    "\n",
    "def img_to_array(path):\n",
    "    img = cv.imread(path)\n",
    "\n",
    "    if img is None:\n",
    "        print(\"Error: Image not found or path is incorrect.\")\n",
    "        return\n",
    "    if len(img.shape) ==2:\n",
    "        #grayscale image\n",
    "        output_file = \"Grayscale_img.txt\"\n",
    "        np.savetxt(output_file,img,fmt=\"%d\")\n",
    "        print(f\"Grayscale image is saved as {output_file}\")\n",
    "    elif len(img.shape)==3 and img.shape[2]==3:\n",
    "        #RGB image\n",
    "        output_file = \"RGB_img.txt\"\n",
    "        r,g,b=cv.split(img) #splitting into channels\n",
    "        with open(output_file,'w') as f:\n",
    "            f.write(\"Red Channel: \\n\")\n",
    "            np.savetxt(f,r,fmt=\"%d\")\n",
    "            f.write(\"\\nGreen Channel:\\n\")\n",
    "            np.savetxt(f,r,fmt=\"%d\")\n",
    "            f.write(\"\\nBlue Channel:\\n\")\n",
    "            np.savetxt(f,r,fmt=\"%d\")\n",
    "        print(f\"RGB image is saved as {output_file}\")\n",
    "    else:\n",
    "        print(\"Unsupported image format.\")\n",
    "\n",
    "img_to_array(\"https://machinelearningknowledge.ai/wp-content/uploads/2024/05/image2.jpg\")"
   ]
  },
  {
   "cell_type": "markdown",
   "id": "6cc46b99-e83c-4c5f-930c-ab5f1bad43ae",
   "metadata": {},
   "source": [
    "## (b) Load the saved file into jupyter notebook?"
   ]
  },
  {
   "cell_type": "code",
   "execution_count": null,
   "id": "4213a8fe-8b33-44b4-8ad2-9351866fc369",
   "metadata": {},
   "outputs": [],
   "source": [
    "def load_rgb_image_fromt_text(filepath):\n",
    "    with open(filepath,'r') as f:\n",
    "        lines = f.readlines()\n",
    "\n",
    "    #split lines into rgb channels\n",
    "    r_start = lines.index(\"Red Channel:\\n\")+1\n",
    "    g_start = lines.index(\"Green Channel:\\n\")\n",
    "    b_start = lines.index(\"Blue Channel: \\n\")\n",
    "\n",
    "    r_lines = lines[r_start:g_start-1]\n",
    "    g_lines = lines[g_start+1:b_start-1]\n",
    "    b_lines = lines[b_start+1:]\n",
    "\n",
    "    r = np.array([[int(val) for val in line.split()] for line in r_lines], dtype=np.uint8)\n",
    "    g = np.array([[int(val) for val in line.split()] for line in g_lines], dtype=np.uint8)\n",
    "    b = np.array([[int(val) for val in line.split()] for line in b_lines], dtype=np.uint8)\n",
    "\n",
    "    #merge channels\n",
    "    rgb_image = np.stack((r,g,b), axis=-1)\n",
    "    return rgb_image\n",
    "\n",
    "rgb_image = load_rgb_image_fromt_text(\"/content/rgb_image_data.txt\")\n",
    "import matplotlib.pyplot as plt\n",
    "plt.imshow(cv.cvtColor(rgb_img, cv.COLOR_BGR2RGB))  # OpenCV loads in BGR\n",
    "plt.title(\"RGB Image\")\n",
    "plt.axis('off')\n",
    "plt.show()"
   ]
  }
 ],
 "metadata": {
  "kernelspec": {
   "display_name": "Python 3 (ipykernel)",
   "language": "python",
   "name": "python3"
  },
  "language_info": {
   "codemirror_mode": {
    "name": "ipython",
    "version": 3
   },
   "file_extension": ".py",
   "mimetype": "text/x-python",
   "name": "python",
   "nbconvert_exporter": "python",
   "pygments_lexer": "ipython3",
   "version": "3.13.1"
  }
 },
 "nbformat": 4,
 "nbformat_minor": 5
}
